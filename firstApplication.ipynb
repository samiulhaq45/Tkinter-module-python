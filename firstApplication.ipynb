{
 "cells": [
  {
   "cell_type": "code",
   "execution_count": 1,
   "id": "3d2d8125",
   "metadata": {},
   "outputs": [],
   "source": [
    "import tkinter as tk  # importing required libraries\n",
    "\n",
    "root = tk.Tk() # creating object of the tk class\n",
    "\n",
    "# setting geometry(width and height) of GUI Window.\n",
    "root.geometry(\"733x434\") # set width = 800, height = 400\n",
    "root.minsize(733,434) # setting minsize to not make it smaller than this\n",
    "root.maxsize(800, 600) # defining maximum size.\n",
    "\n",
    "# adding label\n",
    "mylabel = tk.Label(text = \"Welcome to Pycharm.\", font=(\"Adobe Hebrew\", 20, \"bold\"), fg=\"#FCF849\", bg=\"#01C5ED\", width=60, pady=25)\n",
    "mylabel.pack()\n",
    "\n",
    "# adding an image\n",
    "img = tk.PhotoImage(file=\"pycharm-logo.png\")\n",
    "resized_img = img.subsample(3,3)  # Resize the image by a factor of 2 (halves the size)\n",
    "label2 = tk.Label(image=resized_img, padx=50, pady=50)\n",
    "label2.pack()\n",
    "\n",
    "root.mainloop() # starting mainloop for managing events of user."
   ]
  },
  {
   "cell_type": "code",
   "execution_count": null,
   "id": "c7c2d507",
   "metadata": {},
   "outputs": [],
   "source": []
  }
 ],
 "metadata": {
  "kernelspec": {
   "display_name": "Python 3 (ipykernel)",
   "language": "python",
   "name": "python3"
  },
  "language_info": {
   "codemirror_mode": {
    "name": "ipython",
    "version": 3
   },
   "file_extension": ".py",
   "mimetype": "text/x-python",
   "name": "python",
   "nbconvert_exporter": "python",
   "pygments_lexer": "ipython3",
   "version": "3.10.9"
  }
 },
 "nbformat": 4,
 "nbformat_minor": 5
}
